{
 "cells": [
  {
   "cell_type": "markdown",
   "metadata": {},
   "source": [
    "# Notebook 2 - Defects / Features\n",
    "\n",
    "This notebook demonstrates the library of different defects than can be introduced to a pipe in PipeFactory.\n",
    "\n",
    "First we build a pipe standard pipe, this is a straight pipe of length 350.0 m and has a radius of 70.0 and thickness of 3.0."
   ]
  },
  {
   "cell_type": "code",
   "execution_count": 1,
   "metadata": {},
   "outputs": [
    {
     "ename": "ImportError",
     "evalue": "attempted relative import beyond top-level package",
     "output_type": "error",
     "traceback": [
      "\u001b[0;31m---------------------------------------------------------------------------\u001b[0m",
      "\u001b[0;31mImportError\u001b[0m                               Traceback (most recent call last)",
      "Cell \u001b[0;32mIn[1], line 2\u001b[0m\n\u001b[1;32m      1\u001b[0m \u001b[38;5;28;01mimport\u001b[39;00m \u001b[38;5;21;01mnumpy\u001b[39;00m \u001b[38;5;28;01mas\u001b[39;00m \u001b[38;5;21;01mnp\u001b[39;00m\n\u001b[0;32m----> 2\u001b[0m \u001b[38;5;28;01mimport\u001b[39;00m \u001b[38;5;21;01mpipefactory\u001b[39;00m \u001b[38;5;28;01mas\u001b[39;00m \u001b[38;5;21;01mpf\u001b[39;00m\n\u001b[1;32m      4\u001b[0m Straight0 \u001b[38;5;241m=\u001b[39m {\n\u001b[1;32m      5\u001b[0m     \u001b[38;5;124m'\u001b[39m\u001b[38;5;124mName\u001b[39m\u001b[38;5;124m'\u001b[39m: \u001b[38;5;124m'\u001b[39m\u001b[38;5;124mStraight0\u001b[39m\u001b[38;5;124m'\u001b[39m,\n\u001b[1;32m      6\u001b[0m     \u001b[38;5;124m'\u001b[39m\u001b[38;5;124mlength\u001b[39m\u001b[38;5;124m'\u001b[39m: \u001b[38;5;241m2.0\u001b[39m,\n\u001b[1;32m      7\u001b[0m     \u001b[38;5;124m'\u001b[39m\u001b[38;5;124mtype\u001b[39m\u001b[38;5;124m'\u001b[39m: \u001b[38;5;124m'\u001b[39m\u001b[38;5;124mStraight\u001b[39m\u001b[38;5;124m'\u001b[39m,\n\u001b[1;32m      8\u001b[0m }\n\u001b[1;32m     10\u001b[0m section_list \u001b[38;5;241m=\u001b[39m [Straight0]\n",
      "File \u001b[0;32m/mnt/c/Users/maxim/Desktop/FM-Pipefactory/pipefactory/__init__.py:7\u001b[0m\n\u001b[1;32m      5\u001b[0m \u001b[38;5;28;01mfrom\u001b[39;00m \u001b[38;5;21;01m.\u001b[39;00m\u001b[38;5;21;01mFEM\u001b[39;00m\u001b[38;5;21;01m.\u001b[39;00m\u001b[38;5;21;01mMesh\u001b[39;00m \u001b[38;5;28;01mimport\u001b[39;00m Element, Node\n\u001b[1;32m      6\u001b[0m \u001b[38;5;28;01mfrom\u001b[39;00m \u001b[38;5;21;01m.\u001b[39;00m\u001b[38;5;21;01mFEM\u001b[39;00m\u001b[38;5;21;01m.\u001b[39;00m\u001b[38;5;21;01mshapefunctions\u001b[39;00m \u001b[38;5;28;01mimport\u001b[39;00m LinearHex, LinearQuad\n\u001b[0;32m----> 7\u001b[0m \u001b[38;5;28;01mfrom\u001b[39;00m \u001b[38;5;21;01m.\u001b[39;00m\u001b[38;5;21;01mFEM\u001b[39;00m\u001b[38;5;21;01m.\u001b[39;00m\u001b[38;5;21;01mintpoints\u001b[39;00m \u001b[38;5;28;01mimport\u001b[39;00m IntPoint, GaussQuadrature, GaussQuadrature2D\n\u001b[1;32m      8\u001b[0m \u001b[38;5;28;01mfrom\u001b[39;00m \u001b[38;5;21;01m.\u001b[39;00m\u001b[38;5;21;01mFEM\u001b[39;00m\u001b[38;5;21;01m.\u001b[39;00m\u001b[38;5;21;01mLinearElastic\u001b[39;00m \u001b[38;5;28;01mimport\u001b[39;00m LinearElasticity\n\u001b[1;32m      9\u001b[0m \u001b[38;5;28;01mfrom\u001b[39;00m \u001b[38;5;21;01m.\u001b[39;00m\u001b[38;5;21;01mFEM\u001b[39;00m\u001b[38;5;21;01m.\u001b[39;00m\u001b[38;5;21;01mLoads\u001b[39;00m \u001b[38;5;28;01mimport\u001b[39;00m CollarLoad\n",
      "File \u001b[0;32m/mnt/c/Users/maxim/Desktop/FM-Pipefactory/pipefactory/FEM/intpoints.py:3\u001b[0m\n\u001b[1;32m      1\u001b[0m \u001b[38;5;28;01mimport\u001b[39;00m \u001b[38;5;21;01mnumpy\u001b[39;00m \u001b[38;5;28;01mas\u001b[39;00m \u001b[38;5;21;01mnp\u001b[39;00m\n\u001b[0;32m----> 3\u001b[0m \u001b[38;5;28;01mfrom\u001b[39;00m \u001b[38;5;21;01m.\u001b[39;00m\u001b[38;5;21;01m.\u001b[39;00m\u001b[38;5;21;01m.\u001b[39;00m\u001b[38;5;21;01mpipefactory\u001b[39;00m \u001b[38;5;28;01mimport\u001b[39;00m LinearHex, LinearQuad\n\u001b[1;32m      5\u001b[0m \u001b[38;5;28;01mclass\u001b[39;00m \u001b[38;5;21;01mIntPoint\u001b[39;00m():\n\u001b[1;32m      7\u001b[0m     \u001b[38;5;28;01mdef\u001b[39;00m \u001b[38;5;21m__init__\u001b[39m(\u001b[38;5;28mself\u001b[39m,\n\u001b[1;32m      8\u001b[0m                  local_coords : np\u001b[38;5;241m.\u001b[39marray,\n\u001b[1;32m      9\u001b[0m                  wgt : \u001b[38;5;28mfloat\u001b[39m,\n\u001b[1;32m     10\u001b[0m                  shapefunction):\n",
      "\u001b[0;31mImportError\u001b[0m: attempted relative import beyond top-level package"
     ]
    }
   ],
   "source": [
    "import numpy as np\n",
    "import pipefactory as pf\n",
    "\n",
    "Straight0 = {\n",
    "    'Name': 'Straight0',\n",
    "    'length': 2.0,\n",
    "    'type': 'Straight',\n",
    "}\n",
    "\n",
    "section_list = [Straight0]\n",
    "\n",
    "mesh = pf.Pipe(outer_radius=0.0365, \n",
    "               thickness = 0.00305, \n",
    "               section_list=section_list, \n",
    "               elem_type=(\"hex\", False), \n",
    "               element_size = 0.01, \n",
    "               elements_through_thickness = 2,\n",
    "               element_around_circum=32)\n",
    "\n",
    "mesh.export('foo.vtk')\n"
   ]
  },
  {
   "cell_type": "markdown",
   "metadata": {},
   "source": [
    "There are two broad classes of defects that have been implemented. These involved one of two things\n",
    "\n",
    "1. Displacing nodes, which include Dimple and Weld defects.\n",
    "\n",
    "2. Removing elements, which includes involves holes and slits.\n",
    "\n",
    "We will go through all types.\n",
    "\n",
    "## Dimple Defects\n",
    "\n",
    "These are defects which represent a dent (inwards). To define them we define a number of parameters\n",
    "\n",
    "- $s_0$ (m) the location along the length of the midline of the pipe.\n",
    "\n",
    "- $\\phi_0$ (degrees) the radial angle of the centre of the dimple.\n",
    "\n",
    "- $A$ (m) the amplitude of the dimple.\n",
    "\n",
    "- $\\ell$ (m) lengthscale parameter controlling the extend of the dimple."
   ]
  },
  {
   "cell_type": "code",
   "execution_count": 2,
   "metadata": {},
   "outputs": [],
   "source": [
    "mesh = pf.Pipe(outer_radius=0.0365, \n",
    "               thickness = 0.00305, \n",
    "               section_list=section_list, \n",
    "               elem_type=(\"hex\", False), \n",
    "               element_size = 0.01, \n",
    "               elements_through_thickness = 2,\n",
    "               element_around_circum=32)\n",
    "\n",
    "s0 = 1.0\n",
    "phi0 = np.pi\n",
    "A = 0.01 \n",
    "ell = 0.06\n",
    "\n",
    "mesh.add_defect_displacement(pf.Dimple(s0, phi0, A, ell))\n",
    "\n",
    "mesh.export('foo_dimple.vtk')"
   ]
  },
  {
   "cell_type": "markdown",
   "metadata": {},
   "source": [
    "Multiple defects can be added by simple calling the method '.add_defect_displacement()' more than once. Like this"
   ]
  },
  {
   "cell_type": "code",
   "execution_count": 3,
   "metadata": {},
   "outputs": [],
   "source": [
    "mesh.add_defect_displacement(pf.Dimple(0.5, np.pi/2, A, ell))\n",
    "\n",
    "mesh.export('foo_multiple_defects.vtk')"
   ]
  },
  {
   "cell_type": "markdown",
   "metadata": {},
   "source": [
    "## Weld\n",
    "\n",
    "The next defect / feature defines a weld as a thickening around the complete collar of the pipe. It is defined by\n",
    "\n",
    "- $s_0$ (m) the location along the length of the midline of the pipe.\n",
    "\n",
    "- $A_{out}$ (degrees)  the amplitude of the dimple on the outside\n",
    "\n",
    "- $A_{in}$ (m) the amplitude of the dimple on the inside\n",
    "\n",
    "- $r$ (m) radius of the pipe\n",
    "\n",
    "- $t$ (m) thickness of the pipe"
   ]
  },
  {
   "cell_type": "code",
   "execution_count": 4,
   "metadata": {},
   "outputs": [],
   "source": [
    "s0 = 1.0\n",
    "Aout = 0.04\n",
    "Ain = 0.02\n",
    "ell_out = 0.08\n",
    "ell_in = 0.04\n",
    "\n",
    "mesh_weld =  pf.Pipe(outer_radius=0.0365, \n",
    "               thickness = 0.00305, \n",
    "               section_list=section_list, \n",
    "               elem_type=(\"hex\", False), \n",
    "               element_size = 0.01, \n",
    "               elements_through_thickness = 2,\n",
    "               element_around_circum=32)\n",
    "\n",
    "mesh_weld.add_defect_displacement(pf.Weld(s0, Aout, Ain, ell_out, ell_in))\n",
    "\n",
    "mesh_weld.export('foo_weld.vtk')"
   ]
  },
  {
   "cell_type": "markdown",
   "metadata": {},
   "source": [
    "## Hole\n",
    "\n",
    "To introduce a circular hole we called this time the method 'remove_elements()'. A hole is defed by three variables\n",
    "\n",
    "- $s_0$ (m) the location along the length of the midline of the pipe.\n",
    "\n",
    "- $\\phi_0$ (degrees) the radial angle of the centre of the dimple.\n",
    "\n",
    "- $r$ (m) the radius of the hole.\n",
    "\n",
    "We start by building a fresh mesh. Then make and visualise the hole."
   ]
  },
  {
   "cell_type": "code",
   "execution_count": 5,
   "metadata": {},
   "outputs": [],
   "source": [
    "s0 = 1.0\n",
    "phi0 = np.pi/4\n",
    "radius = 0.05\n",
    "\n",
    "mesh_with_hole = pf.Pipe(outer_radius=0.0365, \n",
    "               thickness = 0.00305, \n",
    "               section_list=section_list, \n",
    "               elem_type=(\"hex\", False), \n",
    "               element_size = 0.01, \n",
    "               elements_through_thickness = 2,\n",
    "               element_around_circum=32)\n",
    "\n",
    "mesh_with_hole.remove_elements(pf.Hole(s0, phi0, radius))\n",
    "\n",
    "mesh_with_hole.export('foo_hole.vtk')"
   ]
  },
  {
   "cell_type": "markdown",
   "metadata": {},
   "source": [
    "## Slits\n",
    "\n",
    "In a simple way to a whole we can introduce a slit. The difference with this is we have introduced a slit profile. Which allows you to define the profile of the slit, so that not all elements are removed through thickness.\n",
    "\n",
    "Naturally this collectively has more parameters to define the \"slit\".\n",
    "\n",
    "- $s_0$ (m) the location along the length of the midline of the pipe.\n",
    "\n",
    "- $\\phi_0$ (degrees) is the angle at the start of the slit\n",
    "\n",
    "- $\\phi_1$ (degrees) is the angle at the end of the slit\n",
    "\n",
    "- $w$ (m) is the slit width.\n",
    "\n",
    "- 'partial' indicates if there is only a partial slit, i.e. not all elements through thickness are removed.\n",
    "\n",
    "- 'profile' is a user-defined function which describes the profile of the slit through the thickness fo the slit.\n",
    "\n",
    "So Let's do a simple slit first, for which all elements are removed."
   ]
  },
  {
   "cell_type": "code",
   "execution_count": 6,
   "metadata": {},
   "outputs": [],
   "source": [
    "mesh_with_slit = pf.Pipe(outer_radius=0.0365, \n",
    "               thickness = 0.00305, \n",
    "               section_list=section_list, \n",
    "               elem_type=(\"hex\", False), \n",
    "               element_size = 0.01, \n",
    "               elements_through_thickness = 2,\n",
    "               element_around_circum=32)\n",
    "\n",
    "mesh_with_slit.remove_elements(pf.Radial_Slit(s0=1.0, phi0=0., phi1=np.pi/4, slit_width=0.03, partial = False))\n",
    "\n",
    "mesh_with_slit.export('foo_slit.vtk')"
   ]
  },
  {
   "cell_type": "markdown",
   "metadata": {},
   "source": [
    "We can now build the same slit which has a partial profile in it."
   ]
  },
  {
   "cell_type": "code",
   "execution_count": 7,
   "metadata": {},
   "outputs": [],
   "source": [
    "mesh_with_slit = pf.Pipe(outer_radius=0.0365, \n",
    "               thickness = 0.00305, \n",
    "               section_list=section_list, \n",
    "               elem_type=(\"hex\", False), \n",
    "               element_size = 0.01, \n",
    "               elements_through_thickness = 2,\n",
    "               element_around_circum=32)\n",
    "\n",
    "class myprofile:\n",
    "    def __init__(self):\n",
    "        self.A = 1.8\n",
    "    def __call__(self, ds, z):\n",
    "        if z > 1. - self.A * np.exp(-12.0*(ds-0.5)**2):\n",
    "            return True\n",
    "        else:\n",
    "            return False\n",
    "\n",
    "mesh_with_slit.remove_elements(pf.Radial_Slit(s0=1.0, phi0=0., phi1=np.pi/4, slit_width=0.03, partial = True, profile=myprofile()))\n",
    "\n",
    "mesh_with_slit.export('foo_partial_slit.vtk')"
   ]
  },
  {
   "cell_type": "markdown",
   "metadata": {},
   "source": [
    "## Cracks\n",
    "\n",
    "In order to simulate thin cracks without the need for axial refinement, we must create degenerate elements that not connected to adjacent nodes. This gives the ability to make cracks going from very thin to zero volume.\n",
    "\n",
    "`RadialCrack` creates a radial rectangular slit with the following parameters:\n",
    "\n",
    "- $s_0$ (m) the location along the length of the midline of the pipe.\n",
    "\n",
    "- $\\phi_0$ (degrees) is the angle at the start of the crack\n",
    "\n",
    "- $\\phi_1$ (degrees) is the angle at the end of the crack\n",
    "\n",
    "- 'crack_width' (m) is the crack width (**Important** must be less the local element length)\n",
    "\n",
    "- 'crack_depth' (m) is the depth of the crack (can be all the way through).\n",
    "\n",
    "- 'smoothing_dist' (m) is the distance from the crack to smooth deformation of elements through the thickness."
   ]
  },
  {
   "cell_type": "code",
   "execution_count": 10,
   "metadata": {},
   "outputs": [],
   "source": [
    "import numpy as np\n",
    "import pipefactory as pf\n",
    "\n",
    "Straight0 = {\n",
    "    'Name': 'Straight0',\n",
    "    'length': 2.0,\n",
    "    'type': 'Straight',\n",
    "}\n",
    "\n",
    "section_list = [Straight0]\n",
    "\n",
    "mesh = pf.Pipe(outer_radius=0.0365, \n",
    "               thickness = 0.01, \n",
    "               section_list=section_list, \n",
    "               elem_type=(\"hex\", False), \n",
    "               element_size = 0.01, \n",
    "               elements_through_thickness = 2,\n",
    "               element_around_circum=48)\n",
    "\n",
    "mesh.degenerate_crack(pf.RadialCrack(s0=0.5,phi0=0.1,phi1=2.0,crack_width=0.001,crack_depth=0.011,smoothing_dist=0.03))\n",
    "\n",
    "mesh.export(\"foo_crack.vtk\")"
   ]
  }
 ],
 "metadata": {
  "kernelspec": {
   "display_name": "pipefactory-QByHIhFg-py3.11",
   "language": "python",
   "name": "python3"
  },
  "language_info": {
   "codemirror_mode": {
    "name": "ipython",
    "version": 3
   },
   "file_extension": ".py",
   "mimetype": "text/x-python",
   "name": "python",
   "nbconvert_exporter": "python",
   "pygments_lexer": "ipython3",
   "version": "3.10.12"
  }
 },
 "nbformat": 4,
 "nbformat_minor": 2
}
