{
 "cells": [
  {
   "cell_type": "markdown",
   "metadata": {},
   "source": [
    "# Notebook 2 - Defects / Features\n",
    "\n",
    "This notebook demonstrates the library of different defects than can be introduced to a pipe in PipeFactory.\n",
    "\n",
    "First we build a pipe standard pipe, this is a straight pipe of length 350.0 mm and has a radius of 70.0 and thickness of 3.0."
   ]
  },
  {
   "cell_type": "code",
   "execution_count": 3,
   "metadata": {},
   "outputs": [],
   "source": [
    "import numpy as np\n",
    "import pipefactory as pf\n",
    "\n",
    "Straight0 = {\n",
    "    'Name': 'Straight0',\n",
    "    'length': 350.0,\n",
    "    'type': 'Straight',\n",
    "}\n",
    "\n",
    "section_list = [Straight0]\n",
    "\n",
    "mesh = pf.Pipe(radius = 70., \n",
    "               thickness = 3.0, \n",
    "               section_list=section_list, \n",
    "               elem_type=(\"hex\", False), \n",
    "               element_size = 6.0, \n",
    "               elements_through_thickness = 3)\n",
    "\n",
    "mesh.export('foo.vtk')\n"
   ]
  },
  {
   "cell_type": "markdown",
   "metadata": {},
   "source": [
    "There are two broad classes of defects that have been implemented. These involved one of two things\n",
    "\n",
    "1. Displacing nodes, which include Dimple and Weld defects.\n",
    "\n",
    "2. Removing elements, which includes involves holes and slits.\n",
    "\n",
    "We will go through all types.\n",
    "\n",
    "## Dimple Defects\n",
    "\n",
    "These are defects which represent a dent (inwards). To define them we define a number of parameters\n",
    "\n",
    "- $s_0$ (mm) the location along the length of the midline of the pipe.\n",
    "\n",
    "- $\\phi_0$ (degrees) the radial angle of the centre of the dimple.\n",
    "\n",
    "- $A$ (mm) the amplitude of the dimple.\n",
    "\n",
    "- $\\ell$ (mm) lengthscale parameter controlling the extend of the dimple."
   ]
  },
  {
   "cell_type": "code",
   "execution_count": 3,
   "metadata": {},
   "outputs": [],
   "source": [
    "s0 = 150.0\n",
    "phi0 = 45.0\n",
    "A = 10.0 \n",
    "ell = 25.0\n",
    "\n",
    "mesh.add_defect_displacement(pf.Dimple(s0, phi0, A, ell))\n",
    "\n",
    "mesh.export('foo_dimple.vtk')"
   ]
  },
  {
   "cell_type": "markdown",
   "metadata": {},
   "source": [
    "Multiple defects can be added by simple calling the method '.add_defect_displacement()' more than once. Like this"
   ]
  },
  {
   "cell_type": "code",
   "execution_count": 3,
   "metadata": {},
   "outputs": [],
   "source": [
    "mesh.add_defect_displacement(pf.Dimple(70.0, 90., A, ell))\n",
    "\n",
    "mesh.export('foo_multiple_defects.vtk')"
   ]
  },
  {
   "cell_type": "markdown",
   "metadata": {},
   "source": [
    "## Weld\n",
    "\n",
    "The next defect / feature defines a weld as a thickening around the complete collar of the pipe. It is defined by\n",
    "\n",
    "- $s_0$ (mm) the location along the length of the midline of the pipe.\n",
    "\n",
    "- $A_{out}$ (degrees)  the amplitude of the dimple on the outside\n",
    "\n",
    "- $A_{in}$ (mm) the amplitude of the dimple on the inside\n",
    "\n",
    "- $r$ (mm) radius of the pipe\n",
    "\n",
    "- $t$ (mm) thickness of the pipe"
   ]
  },
  {
   "cell_type": "code",
   "execution_count": 6,
   "metadata": {},
   "outputs": [],
   "source": [
    "s0 = 150.0\n",
    "Aout = 0.3\n",
    "Ain = 0.1\n",
    "ell_out = 6.\n",
    "ell_in = 3.\n",
    "radius = 70.\n",
    "thickness = 3.\n",
    "\n",
    "\n",
    "mesh_weld = pf.Pipe(radius = 70., \n",
    "               thickness = 3.0, \n",
    "               section_list=section_list, \n",
    "               elem_type=(\"hex\", False), \n",
    "               element_size = 1.5, \n",
    "               elements_through_thickness = 5)\n",
    "\n",
    "mesh_weld.add_defect_displacement(pf.Weld(s0, Aout, Ain, ell_out, ell_in, radius, thickness))\n",
    "\n",
    "mesh_weld.export('foo_weld.vtk')"
   ]
  },
  {
   "cell_type": "markdown",
   "metadata": {},
   "source": [
    "## Hole\n",
    "\n",
    "To introduce a circular hole we called this time the method 'remove_elements()'. A hole is defed by three variables\n",
    "\n",
    "- $s_0$ (mm) the location along the length of the midline of the pipe.\n",
    "\n",
    "- $\\phi_0$ (degrees) the radial angle of the centre of the dimple.\n",
    "\n",
    "- $r$ (mm) the radius of the hole.\n",
    "\n",
    "We start by building a fresh mesh. Then make and visualise the hole."
   ]
  },
  {
   "cell_type": "code",
   "execution_count": 5,
   "metadata": {},
   "outputs": [],
   "source": [
    "s0 = 100.0\n",
    "phi0 = 45.0\n",
    "radius = 20.0\n",
    "\n",
    "mesh_with_hole = pf.Pipe(70.0, 3.0, [Straight0], (\"hex\", False), 2.0, 3)\n",
    "\n",
    "mesh_with_hole.remove_elements(pf.Hole(s0, phi0, radius))\n",
    "\n",
    "mesh_with_hole.export('foo_hole.vtk')"
   ]
  },
  {
   "cell_type": "markdown",
   "metadata": {},
   "source": [
    "## Slits\n",
    "\n",
    "In a simple way to a whole we can introduce a slit. The difference with this is we have introduced a slit profile. Which allows you to define the profile of the slit, so that not all elements are removed through thickness.\n",
    "\n",
    "Naturally this collectively has more parameters to define the \"slit\".\n",
    "\n",
    "- $s_0$ (mm) the location along the length of the midline of the pipe.\n",
    "\n",
    "- $\\phi_0$ (degrees) is the angle at the start of the slit\n",
    "\n",
    "- $\\phi_1$ (degrees) is the angle at the end of the slit\n",
    "\n",
    "- $w$ (mm) is the slit width.\n",
    "\n",
    "- 'partial' indicates if there is only a partial slit, i.e. not all elements through thickness are removed.\n",
    "\n",
    "- 'profile' is a user-defined function which describes the profile of the slit through the thickness fo the slit.\n",
    "\n",
    "So Let's do a simple slit first, for which all elements are removed."
   ]
  },
  {
   "cell_type": "code",
   "execution_count": 4,
   "metadata": {},
   "outputs": [],
   "source": [
    "mesh_with_slit = pf.Pipe(70.0, 3.0, [Straight0], (\"hex\", False), 2.0, 5)\n",
    "\n",
    "mesh_with_slit.remove_elements(pf.Radial_Slit(s0=100.0, phi0=10., phi1=45.0, slit_width=3.0, radius=70.0, thickness=3.0, partial = False))\n",
    "\n",
    "mesh_with_slit.export('foo_slit.vtk')"
   ]
  },
  {
   "cell_type": "markdown",
   "metadata": {},
   "source": [
    "We can now build the same slit which has a partial profile in it."
   ]
  },
  {
   "cell_type": "code",
   "execution_count": 17,
   "metadata": {},
   "outputs": [],
   "source": [
    "mesh_with_slit = pf.Pipe(70.0, 3.0, [Straight0], (\"hex\", False), 2.0, 5)\n",
    "\n",
    "class myprofile:\n",
    "    def __init__(self):\n",
    "        self.A = 2.0\n",
    "    def __call__(self, ds, z):\n",
    "        if z > 1. - self.A * np.exp(-12.0*(ds-0.5)**2):\n",
    "            return True\n",
    "        else:\n",
    "            return False\n",
    "\n",
    "mesh_with_slit.remove_elements(pf.Radial_Slit(s0=200.0, phi0=10., phi1=45.0, slit_width=3.0, radius = 70., thickness = 3.0, partial = True, profile=myprofile()))\n",
    "\n",
    "mesh_with_slit.export('foo_partial_slit.vtk')"
   ]
  }
 ],
 "metadata": {
  "kernelspec": {
   "display_name": "pipefactory-QByHIhFg-py3.11",
   "language": "python",
   "name": "python3"
  },
  "language_info": {
   "codemirror_mode": {
    "name": "ipython",
    "version": 3
   },
   "file_extension": ".py",
   "mimetype": "text/x-python",
   "name": "python",
   "nbconvert_exporter": "python",
   "pygments_lexer": "ipython3",
   "version": "3.10.12"
  }
 },
 "nbformat": 4,
 "nbformat_minor": 2
}
