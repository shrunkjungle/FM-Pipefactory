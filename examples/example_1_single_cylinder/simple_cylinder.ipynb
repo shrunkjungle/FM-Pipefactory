{
 "cells": [
  {
   "cell_type": "markdown",
   "metadata": {},
   "source": [
    "# Simple Example of a Pipe\n",
    "\n",
    "Here is a simple example which constructs a pipe with radius $70.0$, thicknes $3.0$ and target element size of $30.0$.\n",
    "\n",
    "It has a straight bit, bends in two axis with different radius, and then a straight bit."
   ]
  },
  {
   "cell_type": "code",
   "execution_count": 5,
   "metadata": {},
   "outputs": [],
   "source": [
    "import numpy as np\n",
    "import pipefactory as pf\n",
    "\n",
    "Straight0 = {\n",
    "    'Name': 'Straight0',\n",
    "    'length': 350.0,\n",
    "    'type': 'Straight',\n",
    "}\n",
    "\n",
    "Bend1 = {\n",
    "    'Name': 'Bend1',\n",
    "    'type': 'Bend',\n",
    "    'param': {\n",
    "        'axis' : \"left_right\",\n",
    "        'radius': 300.0,\n",
    "        'angle': 95.0\n",
    "    }\n",
    "}\n",
    "\n",
    "Bend2 = {\n",
    "    'Name': 'Bend1',\n",
    "    'type': 'Bend',\n",
    "    'param': {\n",
    "        'axis' : \"up_down\",\n",
    "        'radius': 150.0,\n",
    "        'angle': 45.0\n",
    "    }\n",
    "}\n",
    "\n",
    "section_list = [Straight0, Bend1, Straight0, Bend2, Straight0]\n",
    "\n",
    "mesh = pf.Pipe(radius = 70., \n",
    "               thickness = 3.0, \n",
    "               section_list=section_list, \n",
    "               elem_type=(\"hex\", False), \n",
    "               element_size = 6.0, \n",
    "               elements_through_thickness = 3)\n",
    "\n",
    "mesh.export('foo.vtk')\n"
   ]
  },
  {
   "cell_type": "code",
   "execution_count": null,
   "metadata": {},
   "outputs": [],
   "source": [
    "Bend1 = {\n",
    "    'Name': 'Bend1',\n",
    "    'type': 'Bend',\n",
    "    'param': {\n",
    "        'axis' : \"left_right\",\n",
    "        'radius': 300.0,\n",
    "        'angle': 95.0\n",
    "    }\n",
    "}\n",
    "\n",
    "Bend2 = {\n",
    "    'Name': 'Bend1',\n",
    "    'type': 'Bend',\n",
    "    'param': {\n",
    "        'axis' : \"up_down\",\n",
    "        'radius': 150.0,\n",
    "        'angle': 45.0\n",
    "    }\n",
    "}"
   ]
  },
  {
   "cell_type": "code",
   "execution_count": 6,
   "metadata": {},
   "outputs": [],
   "source": [
    "s0 = 150.0\n",
    "phi0 = 45.0\n",
    "A = 10.0 \n",
    "ell = 25.0\n",
    "\n",
    "mesh.add_defect_displacement(pf.Dimple(s0, phi0, A, ell))\n",
    "\n",
    "point_data = {\n",
    "    \"u\" : np.random.uniform(0.0, 1.0, size=(mesh.nnodes,))\n",
    "}\n",
    "mesh.export('foo_point.vtk', point_data=point_data)"
   ]
  },
  {
   "cell_type": "markdown",
   "metadata": {},
   "source": [
    "### Example with a Defect\n",
    "\n",
    "Here we show an example where we introduce a defect, in this case a dimple. In general any displacement defect or feature can be defined this way. \n",
    "\n",
    "A class of parameteric defects could be contructed. As suggested this could also be from a point cloud, where kNN could be used to interpolate points to return imperfection from perfect cylinder."
   ]
  },
  {
   "cell_type": "code",
   "execution_count": 6,
   "metadata": {},
   "outputs": [],
   "source": [
    "phi0 = 45.0\n",
    "A = 10.0 \n",
    "ell = 25.0\n",
    "\n",
    "mesh.add_defect_displacement(pf.Dimple(150.0, phi0, A, ell))\n",
    "mesh.add_defect_displacement(pf.Dimple(500.0, phi0, A, ell))\n",
    "mesh.export(\"foo_multiple_defects.vtk\")"
   ]
  },
  {
   "cell_type": "code",
   "execution_count": 5,
   "metadata": {},
   "outputs": [],
   "source": [
    "import pipefactory as pf\n",
    "import numpy as np\n",
    "\n",
    "s0 = 150.0\n",
    "phi0 = 45.0\n",
    "A = 10.0 \n",
    "ell = 25.0\n",
    "\n",
    "Straight1 = {\n",
    "    'Name': 'Straight0',\n",
    "    'length': 350.0,\n",
    "    'type': 'Straight',\n",
    "}\n",
    "\n",
    "mesh_with_defect = pf.Pipe(70.0, 3.0, [Straight1], (\"hex\", False), 10, 3)\n",
    "\n",
    "mesh_with_defect.add_defect_displacement(pf.Dimple(s0, phi0, A, ell))\n",
    "\n",
    "mesh_with_defect.export('foo_defect.vtk')"
   ]
  },
  {
   "cell_type": "markdown",
   "metadata": {},
   "source": [
    "## How might it work with a point cloud?\n",
    "\n",
    "Here we use a simple point based regession method (KNN) to interpolate from a point cloud."
   ]
  },
  {
   "cell_type": "code",
   "execution_count": null,
   "metadata": {},
   "outputs": [],
   "source": [
    "from sklearn.neighbors import KNeighborsRegressor\n",
    "import numpy as np\n",
    "\n",
    "\n",
    "class PointCloud():\n",
    "\n",
    "    def __init__(self,\n",
    "                 filename : str,\n",
    "                 nearest_neighbours : int = 3,\n",
    "                 ):\n",
    "        \n",
    "        self.data = np.genfromtxt(filename, delimiter=',')\n",
    "\n",
    "        self.X = self.data[:,:4] \n",
    "        self.y = self.data[:,:-1]\n",
    "\n",
    "        self.knn = KNeighborsRegressor(n_neighbors=nearest_neighbours).fit(self.X, self.y)\n",
    "\n",
    "    def __call__(self,\n",
    "                 xm : np.array,\n",
    "                 s : float, \n",
    "                 node : Node):\n",
    "        \n",
    "        new_data_point = np.array([s, node.v[0], node.v[1], node[2]])\n",
    "        return self.knn.predict(new_data_point)\n",
    "\n",
    "    "
   ]
  },
  {
   "cell_type": "markdown",
   "metadata": {},
   "source": [
    "## Defect Example with Mesh Deletion"
   ]
  },
  {
   "cell_type": "code",
   "execution_count": 7,
   "metadata": {},
   "outputs": [],
   "source": []
  },
  {
   "cell_type": "code",
   "execution_count": 8,
   "metadata": {},
   "outputs": [],
   "source": [
    "import pipefactory as pf\n",
    "\n",
    "s0 = 150.0\n",
    "phi0 = 45.0\n",
    "radius = 25.0\n",
    "\n",
    "Straight1 = {\n",
    "    'Name': 'Straight0',\n",
    "    'length': 350.0,\n",
    "    'type': 'Straight',\n",
    "}\n",
    "\n",
    "mesh_with_defect = pf.Pipe(70.0, 3.0, [Straight1], (\"hex\", False), 2.0, 3)\n",
    "\n",
    "#mesh_with_defect.remove_elements(pf.Hole(s0, phi0, radius))\n",
    "\n",
    "mesh_with_defect.remove_elements(pf.Radial_Slit(s0=100.0, phi0=10., phi1=45.0, slit_width=3.0))\n",
    "\n",
    "mesh_with_defect.export('foo_hole.vtk')\n",
    "\n"
   ]
  },
  {
   "cell_type": "markdown",
   "metadata": {},
   "source": [
    "## Partition in the pipe into \"Super Elements\" for Generalised Multiscale Finite Elements\n",
    "\n",
    "This code partitions the part into `nparts` it then overlaps through parts by a layer of `size_overlap`."
   ]
  },
  {
   "cell_type": "code",
   "execution_count": 1,
   "metadata": {},
   "outputs": [],
   "source": [
    "import numpy as np\n",
    "import pipefactory as pf\n",
    "\n",
    "s0 = 150.0\n",
    "phi0 = 45.0\n",
    "radius = 25.0\n",
    "\n",
    "Straight1 = {\n",
    "    'Name': 'Straight0',\n",
    "    'length': 350.0,\n",
    "    'type': 'Straight',\n",
    "}\n",
    "\n",
    "mesh_partition_test = pf.Pipe(radius = 70.0, \n",
    "                              thickness = 3.0, \n",
    "                              section_list = [Straight1], \n",
    "                              elem_type = (\"hex\", False), \n",
    "                              element_size = 2.0,\n",
    "                              elements_through_thickness = 3, \n",
    "                              partition = True, \n",
    "                              nparts = 4, \n",
    "                              size_overlap = 2)\n",
    "\n",
    "\n",
    "# Visualise the partitions as cell data.\n",
    "cell_data = {}\n",
    "for i, Omg in enumerate(mesh_partition_test.Omg):\n",
    "    e = np.zeros((mesh_partition_test.nel,))\n",
    "    e[Omg] = 1.0\n",
    "    cell_data[\"Omg_\"+str(i)] = [e] # This is a quirk of meshio plotting, this has to be a list of a list.\n",
    "\n",
    "mesh_partition_test.export(\"foo_Omg.vtk\", cell_data = cell_data)\n"
   ]
  },
  {
   "cell_type": "code",
   "execution_count": 91,
   "metadata": {},
   "outputs": [],
   "source": [
    "import pipefactory as pf\n",
    "\n",
    "le = pf.LinearElasticity()\n",
    "\n",
    "Straight0 = {\n",
    "    'Name': 'Straight0',\n",
    "    'length': 350.0,\n",
    "    'type': 'Straight',\n",
    "}\n",
    "\n",
    "mesh = pf.Pipe(radius = 70., thickness= 3.0, section_list=[Straight0], elem_type=(\"hex\", False), element_size=10.0, elements_through_thickness=3)\n"
   ]
  },
  {
   "cell_type": "code",
   "execution_count": 4,
   "metadata": {},
   "outputs": [
    {
     "name": "stdout",
     "output_type": "stream",
     "text": [
      "Print\n",
      "Done1\n",
      "Not here!\n"
     ]
    }
   ],
   "source": [
    "import pipefactory as pf\n",
    "\n",
    "mesh = pf.TwoBricks()\n",
    "\n",
    "fe2 = pf.FEM(mesh)\n",
    "\n",
    "lam, v = fe2.eig_decomposition(20)\n",
    "\n",
    "# Visualise the partitions as cell data.\n",
    "point_data = {}\n",
    "\n",
    "# Iterate over each column\n",
    "for i, v_col in enumerate(v.T):  # Transpose to iterate over columns\n",
    "    point_data[\"eig_vec_\" + str(i)] = v_col.reshape(12,3)\n",
    "\n",
    "mesh.export(\"twobricks.vtk\", point_data=point_data)\n",
    "\n"
   ]
  },
  {
   "cell_type": "code",
   "execution_count": 1,
   "metadata": {},
   "outputs": [],
   "source": [
    "import random\n",
    "import numpy as np\n",
    "import pipefactory as pf\n",
    "\n",
    "from scipy.sparse.linalg import eigsh\n",
    "\n",
    "\n",
    "le = pf.LinearElasticity()\n",
    "\n",
    "Straight0 = {\n",
    "    'Name': 'Straight0',\n",
    "    'length': 60.0,\n",
    "    'type': 'Straight',\n",
    "}\n",
    "\n",
    "mesh = pf.Pipe(radius = 70., thickness= 3.0, section_list=[Straight0], elem_type=(\"hex\", False), element_size=10.0, elements_through_thickness=3)\n",
    "\n",
    "fe = pf.FEM(mesh)\n",
    "\n",
    "#lam, v = fe.eig_decomposition(20)\n",
    "\n",
    "K = fe.K_global.todense()\n",
    "\n",
    "e, v = np.linalg.eigh(K)\n",
    "\n",
    "# Visualise the partitions as cell data.\n",
    "point_data = {}\n",
    "\n",
    "# Iterate over each column\n",
    "for i, v_col in enumerate(v.T):  # Transpose to iterate over columns\n",
    "    if i == 20:\n",
    "        break\n",
    "    else: point_data[\"eig_vec_\" + str(i)] = v_col.reshape(mesh.nnodes,3)\n",
    "mesh.export(\"pipe_eigs.vtk\", point_data=point_data)\n"
   ]
  },
  {
   "cell_type": "code",
   "execution_count": null,
   "metadata": {},
   "outputs": [],
   "source": []
  },
  {
   "cell_type": "code",
   "execution_count": 12,
   "metadata": {},
   "outputs": [],
   "source": [
    "# Visualise the partitions as cell data.\n",
    "point_data = {}\n",
    "\n",
    "# Iterate over each column\n",
    "for i, v_col in enumerate(v.T):  # Transpose to iterate over columns\n",
    "    point_data[\"eig_vec_\" + str(i)] = v_col.reshape(mesh.nnodes,3)\n",
    "\n",
    "mesh.export(\"pipe_eigs.vtk\", point_data=point_data)"
   ]
  },
  {
   "cell_type": "code",
   "execution_count": 1,
   "metadata": {},
   "outputs": [],
   "source": [
    "import pipefactory as pf\n",
    "\n",
    "import numpy as np\n",
    "\n",
    "Straight0 = {\n",
    "    'Name': 'Straight0',\n",
    "    'length': 60.0,\n",
    "    'type': 'Straight',\n",
    "}\n",
    "\n",
    "radius = 70.\n",
    "thickness = 3.0 \n",
    "\n",
    "mesh = pf.Pipe(radius = radius, thickness= thickness, section_list=[Straight0], elem_type=(\"hex\", False), element_size=10.0, elements_through_thickness=3)\n",
    "\n",
    "\n",
    "mesh.export(\"foo.vtk\")\n"
   ]
  },
  {
   "cell_type": "code",
   "execution_count": 5,
   "metadata": {},
   "outputs": [
    {
     "data": {
      "text/plain": [
       "array([ 5.        , 34.17899594, 62.59415763])"
      ]
     },
     "execution_count": 5,
     "metadata": {},
     "output_type": "execute_result"
    }
   ],
   "source": [
    "mesh.outer_face_elements[3].midpoint"
   ]
  }
 ],
 "metadata": {
  "kernelspec": {
   "display_name": "pipefactory-CB2q4e0P-py3.11",
   "language": "python",
   "name": "python3"
  },
  "language_info": {
   "codemirror_mode": {
    "name": "ipython",
    "version": 3
   },
   "file_extension": ".py",
   "mimetype": "text/x-python",
   "name": "python",
   "nbconvert_exporter": "python",
   "pygments_lexer": "ipython3",
   "version": "3.11.4"
  }
 },
 "nbformat": 4,
 "nbformat_minor": 2
}
